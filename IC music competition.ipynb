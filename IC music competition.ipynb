{
 "cells": [
  {
   "cell_type": "markdown",
   "metadata": {},
   "source": [
    "# IC Music Competition basic leaderboard Entry \n",
    "# Logistic classifier for 147 genres of music \n",
    "\n",
    "## Introduction\n",
    "\n",
    "In this excecise I will begin by getting the summary vectors for each song and using them I will train logistic regression classifiers before using the classifiers to classify the different songs available to me.\n",
    "\n",
    "[Kraggle page](https://www.kaggle.com/c/icmusicgenre)\n",
    "[First leaderboard entry](http://course.dougturnbull.org/mediawiki/index.php/CS490_Project_1st_Entry)\n",
    "\n"
   ]
  },
  {
   "cell_type": "code",
   "execution_count": 85,
   "metadata": {},
   "outputs": [],
   "source": [
    "%matplotlib inline  \n",
    "import librosa\n",
    "import librosa.display\n",
    "import IPython\n",
    "import numpy as np\n",
    "import pandas as pd\n",
    "import scipy\n",
    "import matplotlib.pyplot as plt\n",
    "import seaborn as sns\n",
    "import os \n",
    "from io import BytesIO\n",
    "from sklearn.linear_model import LogisticRegression \n",
    "from sklearn import preprocessing\n",
    "from sklearn.metrics import accuracy_score\n",
    "from sklearn.model_selection import learning_curve\n",
    "from sklearn.svm import SVC\n",
    "from sklearn.model_selection import ShuffleSplit\n",
    "from sklearn.metrics import roc_auc_score\n",
    "from sklearn.utils import shuffle\n",
    "from sklearn import preprocessing\n",
    "from sklearn.pipeline import Pipeline\n",
    "from sklearn.model_selection import GridSearchCV\n",
    "from sklearn.model_selection import KFold"
   ]
  },
  {
   "cell_type": "markdown",
   "metadata": {},
   "source": [
    "## Summary song descriptor vector extraction\n",
    "Iterate over each of the files within the song directory and get the summary features required for the learning algorithm then clean out any NaN instances by replacing them with 0"
   ]
  },
  {
   "cell_type": "code",
   "execution_count": 107,
   "metadata": {},
   "outputs": [],
   "source": [
    "\n",
    "#89 with 14 + extra feature \n",
    "#75 with just feature summary \n",
    "dataMatrix = np.zeros((7868, 89), dtype=float)\n",
    "testMatrix = np.zeros((2705, 89), dtype=float)\n",
    "for i in range(7868):\n",
    "    song_feature_directory_path = 'D:\\\\train_feature_files\\\\'\n",
    "    song_feature_directory_path = song_feature_directory_path + str(i) + \".npz\"\n",
    "    data = np.load(song_feature_directory_path)\n",
    "#     dataMatrix[i:] = data['summary']\n",
    "    dataMatrix[i:,:76] = data['summary'] \n",
    "    dataMatrix[i:,76] = data[\"summary\"][0] / (data[\"summary\"][1] + 1)\n",
    "    n = data['mfccs'].shape[1]\n",
    "    f = np.mean(data['mfccs'][:,:int(n/2)], axis=1)\n",
    "    s = np.mean(data['mfccs'][:,int(n/2):], axis=1)\n",
    "    average = s/f\n",
    "    dataMatrix[:,76:] = average\n",
    "    \n",
    "    \n",
    "dataMatrix = np.nan_to_num(dataMatrix)\n",
    "\n",
    "for i in range(2705):\n",
    "    song_feature_directory_path = 'D:\\\\test_feature_files\\\\'\n",
    "    song_feature_directory_path = song_feature_directory_path + str(i) + \".npz\"\n",
    "    data = np.load(song_feature_directory_path)\n",
    "#     testMatrix[i:] = data['summary']\n",
    "    testMatrix[i:,:76] = data['summary'] \n",
    "    testMatrix[i:,76] = data[\"summary\"][0] / (data[\"summary\"][1] + 1)\n",
    "    n = data['mfccs'].shape[1]\n",
    "    f = np.mean(data['mfccs'][:,:int(n/2)], axis=1)\n",
    "    s = np.mean(data['mfccs'][:,int(n/2):], axis=1)\n",
    "    average = s/f\n",
    "    testMatrix[:,76:] = average\n",
    "\n",
    "testMatrix =np.nan_to_num(testMatrix)"
   ]
  },
  {
   "cell_type": "code",
   "execution_count": 20,
   "metadata": {},
   "outputs": [
    {
     "name": "stdout",
     "output_type": "stream",
     "text": [
      "6988\n",
      "(13,)\n"
     ]
    }
   ],
   "source": [
    "\n",
    "print(data['mfccs'].shape[1])\n",
    "n = data['mfccs'].shape[1]\n",
    "\n",
    "f = np.mean(data['mfccs'][:,:int(n/2)], axis=1)\n",
    "s = np.mean(data['mfccs'][:,int(n/2):], axis=1)\n",
    "average = s/f\n",
    "print(average.shape)"
   ]
  },
  {
   "cell_type": "markdown",
   "metadata": {},
   "source": [
    "## Setting up the Y labels\n",
    "\n",
    "Load the cal10k_train_date matrix Y_train for the 147 genres and 7868 training tracks"
   ]
  },
  {
   "cell_type": "code",
   "execution_count": 52,
   "metadata": {},
   "outputs": [],
   "source": [
    "# encode each of the string feature names to ints \n",
    "y_all = np.loadtxt(open(\"D:\\\\cal10k_train_data\\\\cal10k_train_data.csv\", \"rb\"), delimiter=\",\",dtype=str,skiprows=0)\n",
    "y_labels = y_all[0]\n",
    "\n",
    "\n",
    "# initialize the y final features shape \n",
    "y_values = np.loadtxt(open(\"D:\\\\cal10k_train_data\\\\cal10k_train_data.csv\", \"rb\"), delimiter=\",\",dtype=float,skiprows=1)\n",
    "y_values = y_values[0:, 1:]     "
   ]
  },
  {
   "cell_type": "markdown",
   "metadata": {},
   "source": [
    "   ## Breaking up the data into two data sets for training and crossvalidation "
   ]
  },
  {
   "cell_type": "code",
   "execution_count": 53,
   "metadata": {},
   "outputs": [],
   "source": [
    "def genCrossVal(X, y):\n",
    "    X, y = shuffle(X, y, random_state=0)\n",
    "    x_train = X[:5000]\n",
    "    y_train = y[:5000]\n",
    "    y_val = y[5000:]\n",
    "    x_val = X[5000:]\n",
    "    return x_train, y_train, x_val, y_val "
   ]
  },
  {
   "cell_type": "code",
   "execution_count": 16,
   "metadata": {},
   "outputs": [
    {
     "name": "stdout",
     "output_type": "stream",
     "text": [
      "(5000, 76)\n"
     ]
    }
   ],
   "source": [
    "x_train, y_train, x_val, y_val = genCrossVal(dataMatrix, y_values)\n"
   ]
  },
  {
   "cell_type": "markdown",
   "metadata": {},
   "source": [
    "# Training the logistic regression classifiers"
   ]
  },
  {
   "cell_type": "code",
   "execution_count": 96,
   "metadata": {},
   "outputs": [],
   "source": [
    "# for each of the 147 different genres \n",
    "# train a classifier which is one column of the y_values matrix with the entire x_values matrix \n",
    "def trainAlgos(input_X, input_y):\n",
    "    trainedAlgos = []\n",
    "    X = input_X\n",
    "    for i in range(input_y.shape[1]):\n",
    "        y = input_y[:,i]\n",
    "        logreg = LogisticRegression(C=3.5, solver='liblinear', multi_class='ovr', max_iter=1000)\n",
    "        logreg.fit(X, y)\n",
    "        trainedAlgos.append(logreg)\n",
    "    return trainedAlgos\n",
    "   \n",
    "\n",
    "\n",
    "    "
   ]
  },
  {
   "cell_type": "markdown",
   "metadata": {},
   "source": [
    "## Training a  support-vector machine classifier  "
   ]
  },
  {
   "cell_type": "code",
   "execution_count": 103,
   "metadata": {},
   "outputs": [],
   "source": [
    "def trainSVMAlgos(input_X, input_y):\n",
    "    trainedAlgos = []\n",
    "    X = input_X\n",
    "    for i in range(input_y.shape[1]):\n",
    "        y = input_y[:,i]\n",
    "        reg = SVC(kernel=\"rbf\", gamma='scale', C=1e4, probability=True)\n",
    "        reg.fit(X, y)\n",
    "        trainedAlgos.append(reg)\n",
    "    return trainedAlgos"
   ]
  },
  {
   "cell_type": "markdown",
   "metadata": {},
   "source": [
    "##  Constructing Y_test"
   ]
  },
  {
   "cell_type": "code",
   "execution_count": 7,
   "metadata": {},
   "outputs": [],
   "source": [
    "# y_test = np.zeros((2705,147), dtype=float)\n",
    "# for i in range(len(trainedAlgos)):\n",
    "#     y_test[:,i] = trainedAlgos[i].predict_proba(testMatrix)[:,1]\n",
    "\n",
    "def genPredict(x_testing, trainedAlgos):\n",
    "    y_test = np.zeros((x_testing.shape[0], 147), dtype=float)\n",
    "    for i in range(len(trainedAlgos)):\n",
    "        y_test[:,i] = trainedAlgos[i].predict_proba(x_testing)[:,1]\n",
    "    return y_test\n",
    "    \n",
    "    \n",
    "    \n",
    "    "
   ]
  },
  {
   "cell_type": "markdown",
   "metadata": {},
   "source": [
    "## Trying to find the best parameters for the SVM to get the best accuracy "
   ]
  },
  {
   "cell_type": "code",
   "execution_count": 18,
   "metadata": {},
   "outputs": [],
   "source": [
    "def svc_param_selection(X, y, nfolds):\n",
    "    Cs = [0.0001,0.001, 0.01, 0.1, 1, 10]\n",
    "    gammas = [0.002, 0.001, 0.01, 0.1, 1]\n",
    "    param_grid = {'C': Cs, 'gamma' : gammas}\n",
    "    grid_search = GridSearchCV(SVC(kernel='rbf', gamma='scale', C=0.0001), param_grid, cv=nfolds)\n",
    "    grid_search.fit(X, y)\n",
    "    grid_search.best_params_\n",
    "    return grid_search.best_params_"
   ]
  },
  {
   "cell_type": "code",
   "execution_count": 12,
   "metadata": {},
   "outputs": [
    {
     "name": "stdout",
     "output_type": "stream",
     "text": [
      "{'C': 0.0001, 'gamma': 0.002}\n"
     ]
    }
   ],
   "source": [
    "x_train, y_train, x_val, y_val = genCrossVal(dataMatrix, y_values)\n",
    "print(svc_param_selection(x_train, y_train[:,0], KFold(n_splits=2, random_state=None, shuffle=False)))"
   ]
  },
  {
   "cell_type": "code",
   "execution_count": 75,
   "metadata": {},
   "outputs": [],
   "source": [
    "def genSVMPredict(x_testing, trainedAlgos):\n",
    "    y_test = np.zeros((x_testing.shape[0], 147), dtype=float)\n",
    "    for i in range(len(trainedAlgos)):\n",
    "        y_test[:,i] = trainedAlgos[i].predict_log_proba(x_testing)[:,1]\n",
    "    return y_test"
   ]
  },
  {
   "cell_type": "markdown",
   "metadata": {},
   "source": [
    "## Internal ROC AUC Testing for Logistic regression "
   ]
  },
  {
   "cell_type": "code",
   "execution_count": 97,
   "metadata": {},
   "outputs": [
    {
     "name": "stdout",
     "output_type": "stream",
     "text": [
      "0.881790163901\n"
     ]
    }
   ],
   "source": [
    "x_train, y_train, x_val, y_val = genCrossVal(dataMatrix, y_values)\n",
    "algos = trainAlgos(x_train, y_train)\n",
    "y_final = genPredict(x_val, algos)\n",
    "print(roc_auc_score(y_val, y_final))"
   ]
  },
  {
   "cell_type": "markdown",
   "metadata": {},
   "source": [
    "## Internal ROC AUC Testing for SVM"
   ]
  },
  {
   "cell_type": "code",
   "execution_count": 104,
   "metadata": {},
   "outputs": [
    {
     "name": "stdout",
     "output_type": "stream",
     "text": [
      "0.85313127647\n"
     ]
    }
   ],
   "source": [
    "x_train, y_train, x_val, y_val = genCrossVal(dataMatrix, y_values)\n",
    "svmAlgos = trainSVMAlgos(x_train, y_train)\n",
    "y_final = genSVMPredict(x_val, svmAlgos)\n",
    "print(roc_auc_score(y_val, y_final))"
   ]
  },
  {
   "cell_type": "markdown",
   "metadata": {},
   "source": [
    "## Making a final submission"
   ]
  },
  {
   "cell_type": "code",
   "execution_count": 92,
   "metadata": {},
   "outputs": [],
   "source": [
    "# f = open(\"submission1.csv\", \"w\")\n",
    "# for i in range(2705):\n",
    "#     print(i, end=\"\")\n",
    "#     for j in range(147):\n",
    "#         print(\",\" +int(y_test[i][j])\n",
    "              \n",
    "# f.close()\n",
    "algos = trainAlgos(dataMatrix, y_values)\n",
    "y_test = genPredict(testMatrix, algos)\n",
    "y_final = np.zeros((2705,148))\n",
    "y_final[:,0] = np.arange(2705)\n",
    "y_final[:,1:] = y_test\n",
    "\n",
    "\n",
    "\n",
    "\n",
    "              \n",
    "        "
   ]
  },
  {
   "cell_type": "code",
   "execution_count": 93,
   "metadata": {},
   "outputs": [],
   "source": [
    "np.savetxt('submission16.csv', y_final, delimiter=',',fmt=\"%.5f\")"
   ]
  },
  {
   "cell_type": "code",
   "execution_count": 148,
   "metadata": {},
   "outputs": [
    {
     "name": "stdout",
     "output_type": "stream",
     "text": [
      "[ 57.]\n",
      "110.0\n"
     ]
    }
   ],
   "source": [
    "x_new = [dataMatrix[2]]\n",
    "y_new = logreg.predict(x_new)\n",
    "print(y_new)\n",
    "\n",
    "print(y_final[2])"
   ]
  }
 ],
 "metadata": {
  "kernelspec": {
   "display_name": "Python 3",
   "language": "python",
   "name": "python3"
  },
  "language_info": {
   "codemirror_mode": {
    "name": "ipython",
    "version": 3
   },
   "file_extension": ".py",
   "mimetype": "text/x-python",
   "name": "python",
   "nbconvert_exporter": "python",
   "pygments_lexer": "ipython3",
   "version": "3.6.8"
  }
 },
 "nbformat": 4,
 "nbformat_minor": 2
}
